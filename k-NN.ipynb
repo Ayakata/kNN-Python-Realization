{
 "cells": [
  {
   "cell_type": "markdown",
   "metadata": {},
   "source": [
    "# <center>k-Nearest Neighbors (kNN) aka Метод ближайших соседей</center>"
   ]
  },
  {
   "cell_type": "markdown",
   "metadata": {},
   "source": [
    "![zihuataneho](knn.png \"Title\")"
   ]
  },
  {
   "cell_type": "markdown",
   "metadata": {},
   "source": [
    "###### Що цє и как его приготовить?\n",
    "    Это такой алгоритм классификации, который делает предсказания целевой переменной на основе классов ближайших k соседей из определённого радиуса исходя из гипотезы компактности.\n",
    "    В первую очередь он вычисляет координаты этой переменной (таргета) и считает расстояние до каждого из k объектов из обучающего набора данных, затем классифицирует нашу переменную на основе совокупности классов по каждому из обследованных объектов и расстояний до них. Замечу, что не всегда в данном методе используются \"веса\" расстояний от таргета до переменной с известным классом. Можно попросту делать вывод о классификации исходя из того, классов какого объекта оказалось больше среди ближайших соседей.\n",
    "    \n",
    "    Метод довльно прост, так он толком ничему не учится, а лишь выдвигает предположения о пренадлежности тому или иному классу исследуемого объекта. Хорошо себя зарекомендовал в точности в задачах с классификацией и регрессией, чем удостоился быть помещённым в библиотеку scikit-learn.\n",
    "    \n",
    "    Попробуем реализовать ещё более упрощённую версию чисто для понимания сути.\n",
    "    И так, наш алгоритм должен измерять расстояние между объектами по их координатам. Их существует несолько. Я решил попробовать наиболее простой (по моему мнению) - Евклидово расстояние."
   ]
  },
  {
   "cell_type": "markdown",
   "metadata": {},
   "source": [
    "## <center>Евклидово расстояние</center>\n",
    "--------------------------------"
   ]
  },
  {
   "cell_type": "markdown",
   "metadata": {},
   "source": [
    "# $$ d(p,q) = \\sqrt{(p_1 - q_1)^2 + (p_2 - q_2)^2 + \\cdots + (p_n - q_n)^2} $$"
   ]
  },
  {
   "cell_type": "code",
   "execution_count": 3,
   "metadata": {},
   "outputs": [],
   "source": [
    "import numpy as np"
   ]
  },
  {
   "cell_type": "code",
   "execution_count": 1,
   "metadata": {},
   "outputs": [],
   "source": [
    "# реализуем данную формулу в виде функции\n",
    "\n",
    "def euclidean_distance(vector1, vector2):\n",
    "    v1, v2 = np.array(vector1), np.array(vector2)\n",
    "    distance = 0\n",
    "    for i in range(len(v1)):\n",
    "        distance += (v1[i] - v2[i]) ** 2\n",
    "    return np.sqrt(distance)"
   ]
  },
  {
   "cell_type": "code",
   "execution_count": 4,
   "metadata": {},
   "outputs": [],
   "source": [
    "# создадим два вектора и проверим\n",
    "\n",
    "v1 = np.array([1,2,3,4,6])\n",
    "v2 = np.array([1,2,3,4,4])"
   ]
  },
  {
   "cell_type": "code",
   "execution_count": 5,
   "metadata": {},
   "outputs": [
    {
     "data": {
      "text/plain": [
       "2.0"
      ]
     },
     "execution_count": 5,
     "metadata": {},
     "output_type": "execute_result"
    }
   ],
   "source": [
    "euclidean_distance(v1, v2)"
   ]
  },
  {
   "cell_type": "code",
   "execution_count": null,
   "metadata": {},
   "outputs": [],
   "source": [
    "# Вроде бы работает"
   ]
  },
  {
   "cell_type": "markdown",
   "metadata": {},
   "source": [
    "# <center>k-NN Algorithm</center>\n",
    "\n",
    "    Настало время реализовывать сам алгоримт. Для этого выстроим план действий, исходя из всего вышесказанного. И так, что нам потребуется? Для начала создадим функцию предиктор, которая будет принимать 3 параметра:\n",
    "   <b>1. `k` значение</b>\n",
    "   \n",
    "   <b>2. `train_set` - матрица с целевым признаком</b>\n",
    "   \n",
    "   <b>3. `test_intance` - вектор для предсказаний без целевого признака</b>\n",
    "   \n",
    "   ------------------------------------------------------------------------\n",
    "   \n",
    "   <center><b>Действия, которые необходимо выполнить для решения задачи:</b></center>\n",
    "   \n",
    "   * Вычислим все расстояния между `train_set` и `test_intance`\n",
    "   * Отсортируем расстояния от меньшего к большему\n",
    "   * Сохраним расстояния из k наименьших\n",
    "   * Получим значения целевых переменных для k строк из `train_set` с наименьшей дистанцией"
   ]
  },
  {
   "cell_type": "code",
   "execution_count": null,
   "metadata": {},
   "outputs": [],
   "source": [
    "# приступим к реализации самого алгоритма\n",
    "\n",
    "def predict(k, train_set, test_instance):\n",
    "    distances = []  \n",
    "    # для каждой строки из train_set получаем расстояние до test_instance\n",
    "    # тут указываем расстояние -1, так как последнее значение в векторе\n",
    "    # предназначено для хранения пренадлежности классу. Её не учитываем, как координату\n",
    "    for i in range(len(train_set)):\n",
    "        dist = euclidean_distance(train_set[i][:-1], test_instance)\n",
    "        # кладём в distances кортеж, содержащий строку и расстояние\n",
    "        distances.append(train_set[i], dist)\n",
    "    # сортируем distances по расстоянию\n",
    "    distances.sort(key=lambda x: x[1])\n",
    "    \n",
    "    # создадим spisok для ближайших соседей\n",
    "    neighbors = []\n",
    "    for i in range(k):\n",
    "        # для k ближайших соседей - выбираем с наименьшим значением\n",
    "        neighbors.append(distances[i][0])\n",
    "        \n",
    "    # пришло время определить классы из test_instance\n",
    "    classes = {}\n",
    "    for i in range(len(neighbors)):\n",
    "        # тот самый класс, который лежит в -1м индексе\n",
    "        response = neighbors[i][-1]\n",
    "        # если он там - увеличиваем значение на 1\n",
    "        if response in classes:\n",
    "            classes[response] += 1\n",
    "        # если нет то кладём его туда\n",
    "        else:\n",
    "            classes[response] = 1\n",
    "    \n",
    "    # сортируем классы по значению и по убыванию\n",
    "    sorted_classes = sorted(classes.intems(), key=lambda x: x[1], reverse=True)\n",
    "    \n",
    "    # возвращаем самый значимый класс\n",
    "    return sorted_classes[0][0]"
   ]
  },
  {
   "cell_type": "markdown",
   "metadata": {},
   "source": [
    "###### Реализуем простую функцию оценки работы нашего алгоритма. Возьмём простую accuracy:"
   ]
  },
  {
   "cell_type": "code",
   "execution_count": null,
   "metadata": {},
   "outputs": [],
   "source": [
    "def evaluate(y_true, y_pred):\n",
    "    n_correct = 0\n",
    "    # для каждого из реальных и предсказанного значений\n",
    "    # сравниваем их и если сошлось, то прибавляем 1\n",
    "    for act, pred in zip(y_true, y_pred):\n",
    "        if act == pred:\n",
    "            n_correct += 1\n",
    "    # считаем accuracy по полученным данным\n",
    "    return n_correct / len(y_true)"
   ]
  },
  {
   "cell_type": "markdown",
   "metadata": {},
   "source": [
    "###### Обернём все наши функии в класс для удобства"
   ]
  },
  {
   "cell_type": "code",
   "execution_count": 27,
   "metadata": {},
   "outputs": [],
   "source": [
    "class KNearestNeighbors(object):\n",
    "    def __init__(self, k):\n",
    "        self.k = k\n",
    "    @staticmethod\n",
    "    def euclidean_distance(vector1, vector2):\n",
    "        v1, v2 = np.array(vector1), np.array(vector2)\n",
    "        distance = 0\n",
    "        for i in range(len(v1) - 1):\n",
    "            distance += (v1[i] - v2[i]) ** 2\n",
    "        return np.sqrt(distance)\n",
    "\n",
    "    def predict(self, train_set, test_instance):\n",
    "        distances = []  \n",
    "        for i in range(len(train_set)):\n",
    "            dist = self.euclidean_distance(train_set[i][:-1], test_instance)\n",
    "            distances.append((train_set[i], dist))\n",
    "            distances.sort(key=lambda x: x[1])\n",
    "\n",
    "        neighbors = []\n",
    "        for i in range(self.k):\n",
    "            neighbors.append(distances[i][0])\n",
    "\n",
    "        classes = {}\n",
    "        for i in range(len(neighbors)):\n",
    "            response = neighbors[i][-1]\n",
    "            if response in classes:\n",
    "                classes[response] += 1\n",
    "            else:\n",
    "                classes[response] = 1\n",
    "\n",
    "        sorted_classes = sorted(classes.items(), key=lambda x: x[1], reverse=True)\n",
    "\n",
    "        return sorted_classes[0][0]\n",
    "    \n",
    "    @staticmethod\n",
    "    def evaluate(y_true, y_pred):\n",
    "        n_correct = 0\n",
    "        for act, pred in zip(y_true, y_pred):\n",
    "            if act == pred:\n",
    "                n_correct += 1\n",
    "        return n_correct / len(y_true)"
   ]
  },
  {
   "cell_type": "markdown",
   "metadata": {},
   "source": [
    "###### Пришло время оценивать. Для примера возьмём готовый датасет с теми самыми Ирисами и постараемся предсказать их классы."
   ]
  },
  {
   "cell_type": "code",
   "execution_count": 28,
   "metadata": {},
   "outputs": [],
   "source": [
    "import pandas as pd\n",
    "from sklearn.datasets import load_iris\n",
    "\n",
    "iris_dataset = load_iris()\n",
    "Y_iris = iris_dataset.target\n",
    "iris_dataset = pd.DataFrame(iris_dataset.data, columns=iris_dataset.feature_names)\n",
    "iris_dataset = pd.concat([iris_dataset, pd.Series(Y_iris)], axis=1)\n",
    "iris_dataset.rename(columns={0: 'class'}, inplace=True)"
   ]
  },
  {
   "cell_type": "code",
   "execution_count": 29,
   "metadata": {},
   "outputs": [
    {
     "data": {
      "text/html": [
       "<div>\n",
       "<style scoped>\n",
       "    .dataframe tbody tr th:only-of-type {\n",
       "        vertical-align: middle;\n",
       "    }\n",
       "\n",
       "    .dataframe tbody tr th {\n",
       "        vertical-align: top;\n",
       "    }\n",
       "\n",
       "    .dataframe thead th {\n",
       "        text-align: right;\n",
       "    }\n",
       "</style>\n",
       "<table border=\"1\" class=\"dataframe\">\n",
       "  <thead>\n",
       "    <tr style=\"text-align: right;\">\n",
       "      <th></th>\n",
       "      <th>sepal length (cm)</th>\n",
       "      <th>sepal width (cm)</th>\n",
       "      <th>petal length (cm)</th>\n",
       "      <th>petal width (cm)</th>\n",
       "      <th>class</th>\n",
       "    </tr>\n",
       "  </thead>\n",
       "  <tbody>\n",
       "    <tr>\n",
       "      <th>0</th>\n",
       "      <td>5.1</td>\n",
       "      <td>3.5</td>\n",
       "      <td>1.4</td>\n",
       "      <td>0.2</td>\n",
       "      <td>0</td>\n",
       "    </tr>\n",
       "    <tr>\n",
       "      <th>1</th>\n",
       "      <td>4.9</td>\n",
       "      <td>3.0</td>\n",
       "      <td>1.4</td>\n",
       "      <td>0.2</td>\n",
       "      <td>0</td>\n",
       "    </tr>\n",
       "    <tr>\n",
       "      <th>2</th>\n",
       "      <td>4.7</td>\n",
       "      <td>3.2</td>\n",
       "      <td>1.3</td>\n",
       "      <td>0.2</td>\n",
       "      <td>0</td>\n",
       "    </tr>\n",
       "    <tr>\n",
       "      <th>3</th>\n",
       "      <td>4.6</td>\n",
       "      <td>3.1</td>\n",
       "      <td>1.5</td>\n",
       "      <td>0.2</td>\n",
       "      <td>0</td>\n",
       "    </tr>\n",
       "    <tr>\n",
       "      <th>4</th>\n",
       "      <td>5.0</td>\n",
       "      <td>3.6</td>\n",
       "      <td>1.4</td>\n",
       "      <td>0.2</td>\n",
       "      <td>0</td>\n",
       "    </tr>\n",
       "    <tr>\n",
       "      <th>...</th>\n",
       "      <td>...</td>\n",
       "      <td>...</td>\n",
       "      <td>...</td>\n",
       "      <td>...</td>\n",
       "      <td>...</td>\n",
       "    </tr>\n",
       "    <tr>\n",
       "      <th>145</th>\n",
       "      <td>6.7</td>\n",
       "      <td>3.0</td>\n",
       "      <td>5.2</td>\n",
       "      <td>2.3</td>\n",
       "      <td>2</td>\n",
       "    </tr>\n",
       "    <tr>\n",
       "      <th>146</th>\n",
       "      <td>6.3</td>\n",
       "      <td>2.5</td>\n",
       "      <td>5.0</td>\n",
       "      <td>1.9</td>\n",
       "      <td>2</td>\n",
       "    </tr>\n",
       "    <tr>\n",
       "      <th>147</th>\n",
       "      <td>6.5</td>\n",
       "      <td>3.0</td>\n",
       "      <td>5.2</td>\n",
       "      <td>2.0</td>\n",
       "      <td>2</td>\n",
       "    </tr>\n",
       "    <tr>\n",
       "      <th>148</th>\n",
       "      <td>6.2</td>\n",
       "      <td>3.4</td>\n",
       "      <td>5.4</td>\n",
       "      <td>2.3</td>\n",
       "      <td>2</td>\n",
       "    </tr>\n",
       "    <tr>\n",
       "      <th>149</th>\n",
       "      <td>5.9</td>\n",
       "      <td>3.0</td>\n",
       "      <td>5.1</td>\n",
       "      <td>1.8</td>\n",
       "      <td>2</td>\n",
       "    </tr>\n",
       "  </tbody>\n",
       "</table>\n",
       "<p>150 rows × 5 columns</p>\n",
       "</div>"
      ],
      "text/plain": [
       "     sepal length (cm)  sepal width (cm)  petal length (cm)  petal width (cm)  \\\n",
       "0                  5.1               3.5                1.4               0.2   \n",
       "1                  4.9               3.0                1.4               0.2   \n",
       "2                  4.7               3.2                1.3               0.2   \n",
       "3                  4.6               3.1                1.5               0.2   \n",
       "4                  5.0               3.6                1.4               0.2   \n",
       "..                 ...               ...                ...               ...   \n",
       "145                6.7               3.0                5.2               2.3   \n",
       "146                6.3               2.5                5.0               1.9   \n",
       "147                6.5               3.0                5.2               2.0   \n",
       "148                6.2               3.4                5.4               2.3   \n",
       "149                5.9               3.0                5.1               1.8   \n",
       "\n",
       "     class  \n",
       "0        0  \n",
       "1        0  \n",
       "2        0  \n",
       "3        0  \n",
       "4        0  \n",
       "..     ...  \n",
       "145      2  \n",
       "146      2  \n",
       "147      2  \n",
       "148      2  \n",
       "149      2  \n",
       "\n",
       "[150 rows x 5 columns]"
      ]
     },
     "execution_count": 29,
     "metadata": {},
     "output_type": "execute_result"
    }
   ],
   "source": [
    "# заглянем, и посмотрим, что получилось\n",
    "iris_dataset"
   ]
  },
  {
   "cell_type": "markdown",
   "metadata": {},
   "source": [
    "###### Рассплитим наши данные по train и test выборкам"
   ]
  },
  {
   "cell_type": "code",
   "execution_count": 30,
   "metadata": {},
   "outputs": [],
   "source": [
    "def train_test_split(dataset, test_size=0.25):\n",
    "    n_test = int(len(dataset) * test_size)\n",
    "    test_set = dataset.sample(n_test)\n",
    "    train_set = []\n",
    "    for ind in dataset.index:\n",
    "        if ind in test_set.index:\n",
    "            continue\n",
    "        train_set.append(dataset.iloc[ind])\n",
    "        \n",
    "    train_set = pd.DataFrame(train_set).astype(float).values.tolist()\n",
    "    test_set = test_set.astype(float).values.tolist()\n",
    "    \n",
    "    return train_set, test_set"
   ]
  },
  {
   "cell_type": "code",
   "execution_count": 31,
   "metadata": {},
   "outputs": [
    {
     "data": {
      "text/plain": [
       "(113, 37)"
      ]
     },
     "execution_count": 31,
     "metadata": {},
     "output_type": "execute_result"
    }
   ],
   "source": [
    "train_set, test_set = train_test_split(iris_dataset)\n",
    "len(train_set), len(test_set)"
   ]
  },
  {
   "cell_type": "markdown",
   "metadata": {},
   "source": [
    "###### Вот, пожалуй и всё. Остаётся только создать экземпляр класса kNN и попробовать его обучить"
   ]
  },
  {
   "cell_type": "code",
   "execution_count": 32,
   "metadata": {},
   "outputs": [
    {
     "data": {
      "text/plain": [
       "0.9459459459459459"
      ]
     },
     "execution_count": 32,
     "metadata": {},
     "output_type": "execute_result"
    }
   ],
   "source": [
    "knn = KNearestNeighbors(k=3)\n",
    "preds = []\n",
    "\n",
    "for row in test_set:\n",
    "    predictors_only = row[:-1]\n",
    "    prediction = knn.predict(train_set, predictors_only)\n",
    "    preds.append(prediction)\n",
    "    \n",
    "actual = np.array(test_set)[:, -1]\n",
    "knn.evaluate(actual, preds)"
   ]
  },
  {
   "cell_type": "markdown",
   "metadata": {},
   "source": [
    "###          Получили точность 94%\n",
    "![bongacams](not-bad.jpeg \"Title\")"
   ]
  },
  {
   "cell_type": "markdown",
   "metadata": {},
   "source": [
    "### Можно попробовать поиграться с различным количеством k"
   ]
  },
  {
   "cell_type": "code",
   "execution_count": 33,
   "metadata": {},
   "outputs": [
    {
     "data": {
      "text/plain": [
       "[(1, 0.918918918918919),\n",
       " (3, 0.9459459459459459),\n",
       " (5, 0.918918918918919),\n",
       " (7, 0.9459459459459459),\n",
       " (9, 0.9459459459459459),\n",
       " (11, 0.8918918918918919),\n",
       " (13, 0.918918918918919),\n",
       " (15, 0.9459459459459459),\n",
       " (17, 0.918918918918919),\n",
       " (19, 0.918918918918919),\n",
       " (21, 0.9459459459459459)]"
      ]
     },
     "execution_count": 33,
     "metadata": {},
     "output_type": "execute_result"
    }
   ],
   "source": [
    "k_evaluations = []\n",
    "\n",
    "for k in range(1, 22, 2):\n",
    "    knn = KNearestNeighbors(k=k)\n",
    "    preds = []\n",
    "    \n",
    "    for row in test_set:\n",
    "        predictors_only = row[:-1]\n",
    "        prediction = knn.predict(train_set, predictors_only)\n",
    "        preds.append(prediction)\n",
    "        \n",
    "    curr_accuracy = knn.evaluate(actual, preds)\n",
    "    k_evaluations.append((k, curr_accuracy))\n",
    "    \n",
    "k_evaluations"
   ]
  },
  {
   "cell_type": "markdown",
   "metadata": {},
   "source": [
    "\n",
    "\n",
    "**Материалы:**\n",
    "\n",
    "--------------------------------\n",
    "\n",
    "[<b>Dario Radečić</b>](https://blog.usejournal.com/a-quick-introduction-to-k-nearest-neighbors-algorithm-62214cea29c7)\n",
    "\n",
    "[<b>Adi Bronshtein</b>](https://towardsdatascience.com/lets-make-a-knn-classifier-from-scratch-e73c43da346d)\n",
    "\n",
    "------------------------------\n",
    "\n",
    "\n",
    "# <center>That's all, Folks!</center>"
   ]
  },
  {
   "cell_type": "markdown",
   "metadata": {},
   "source": [
    "![bongacams](котэ-чай-песочница-569839.jpeg \"Title\")"
   ]
  },
  {
   "cell_type": "code",
   "execution_count": null,
   "metadata": {},
   "outputs": [],
   "source": []
  }
 ],
 "metadata": {
  "kernelspec": {
   "display_name": "Python 3",
   "language": "python",
   "name": "python3"
  },
  "language_info": {
   "codemirror_mode": {
    "name": "ipython",
    "version": 3
   },
   "file_extension": ".py",
   "mimetype": "text/x-python",
   "name": "python",
   "nbconvert_exporter": "python",
   "pygments_lexer": "ipython3",
   "version": "3.7.6"
  }
 },
 "nbformat": 4,
 "nbformat_minor": 4
}
